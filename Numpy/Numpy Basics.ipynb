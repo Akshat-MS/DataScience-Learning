{
 "cells": [
  {
   "cell_type": "markdown",
   "id": "21dc9836",
   "metadata": {},
   "source": [
    "# NumPy\n",
    "\n"
   ]
  },
  {
   "cell_type": "code",
   "execution_count": 32,
   "id": "613f5bce",
   "metadata": {},
   "outputs": [],
   "source": [
    "# NumPy is a library for scientific computations in Python.\n",
    "# Numpy is one of the packages you have to know if you're going to do data science with Python.\n",
    "\n",
    "# It is a Python library that provides support for large, multidimensional arrays along with masked \n",
    "# arrays and matrices, and provides extensive functions for performing array manipulation, including \n",
    "# mathematical, logical, and shape calculations, sorting, selecting, I/O, discrete Fourier transforms,\n",
    "# linear algebra, basic statistical operations, random simulations, and so on."
   ]
  },
  {
   "cell_type": "code",
   "execution_count": 3,
   "id": "d03f4e7a",
   "metadata": {},
   "outputs": [],
   "source": [
    "# Importing the Numpy library\n",
    "import numpy as np"
   ]
  },
  {
   "cell_type": "code",
   "execution_count": 5,
   "id": "cd6fa0e9",
   "metadata": {},
   "outputs": [
    {
     "data": {
      "text/plain": [
       "'1.21.2'"
      ]
     },
     "execution_count": 5,
     "metadata": {},
     "output_type": "execute_result"
    }
   ],
   "source": [
    "# Numpy version\n",
    "np.__version__"
   ]
  },
  {
   "cell_type": "markdown",
   "id": "62a440d9",
   "metadata": {},
   "source": [
    "# Function - numpy.array()"
   ]
  },
  {
   "cell_type": "code",
   "execution_count": 6,
   "id": "76eafd16",
   "metadata": {},
   "outputs": [],
   "source": [
    "# Function - numpy.array() (Note only most frequently parameters are explain below)\n",
    "# numpy.array(object, dtype=None, *, copy=True, order='K', subok=False, ndmin=0, like=None)\n",
    "\n",
    "# Parameters : \n",
    "# object : array_like\n",
    "# An array, any object exposing the array interface, an object whose __array__ method returns an array,\n",
    "# or any (nested) sequence. If object is a scalar, a 0-dimensional array containing object is returned.\n",
    "# Example - list object [1,2,3] or list of tuple [(1,2,3),(4,5,6)]\n",
    "\n",
    "# dtype : data-type (optional)\n",
    "# The desired data-type for the array. If not given, then the type will be determined as the minimum\n",
    "# type required to hold the objects in the sequence.\n",
    "# Example - dtype - float or str"
   ]
  },
  {
   "cell_type": "code",
   "execution_count": 7,
   "id": "3f912222",
   "metadata": {},
   "outputs": [],
   "source": [
    "a = np.array([1,2,3])\n",
    "b = np.array([(1,2,3),(6,7,8)],dtype = float)\n",
    "c = np.array([[(1,2,3),(4,5,6)],[(7,8,9),(10,11,12)]], dtype= str)"
   ]
  },
  {
   "cell_type": "code",
   "execution_count": 8,
   "id": "f8eaf60b",
   "metadata": {},
   "outputs": [
    {
     "name": "stdout",
     "output_type": "stream",
     "text": [
      "[1 2 3]  \t <class 'numpy.ndarray'>\n",
      "\n",
      " [[1. 2. 3.]\n",
      " [6. 7. 8.]]  \t <class 'numpy.ndarray'>\n",
      "\n",
      " [[['1' '2' '3']\n",
      "  ['4' '5' '6']]\n",
      "\n",
      " [['7' '8' '9']\n",
      "  ['10' '11' '12']]]  \t <class 'numpy.ndarray'>\n"
     ]
    }
   ],
   "source": [
    "print(a, \" \\t\" , type(a))\n",
    "print(\"\\n\",b, \" \\t\" , type(b))\n",
    "print(\"\\n\",c, \" \\t\" , type(c))"
   ]
  },
  {
   "cell_type": "markdown",
   "id": "dc40ebc0",
   "metadata": {},
   "source": [
    "# Numpy supports -  element-wise operations"
   ]
  },
  {
   "cell_type": "code",
   "execution_count": 9,
   "id": "ea3f3668",
   "metadata": {},
   "outputs": [
    {
     "name": "stdout",
     "output_type": "stream",
     "text": [
      "[2 4 6]\n",
      "[[ 2.  4.  6.]\n",
      " [12. 14. 16.]]\n"
     ]
    }
   ],
   "source": [
    "# When a*2 is used, it performs element-wise operations rather than duplicating the content as with lists.\n",
    "print(a*2)\n",
    "print(b*2)"
   ]
  },
  {
   "cell_type": "markdown",
   "id": "8128f4fc",
   "metadata": {},
   "source": [
    "# Function required for inspecting the Numpy Array\n",
    "  - a.shape\n",
    "  - a.ndim\n",
    "  - a.size\n",
    "  - a.dtype\n",
    "  - a.dtype.name\n",
    "  - a.astype(float)"
   ]
  },
  {
   "cell_type": "code",
   "execution_count": 10,
   "id": "cd48670d",
   "metadata": {},
   "outputs": [
    {
     "data": {
      "text/plain": [
       "(2, 2, 3)"
      ]
     },
     "execution_count": 10,
     "metadata": {},
     "output_type": "execute_result"
    }
   ],
   "source": [
    "# a.shape - Tuple of array dimensions.\n",
    "## The shape property is usually used to get the current shape of an array\n",
    "## Example - (3,) - What is the magnitude of each dimension.\n",
    "c.shape"
   ]
  },
  {
   "cell_type": "code",
   "execution_count": 11,
   "id": "33365d88",
   "metadata": {},
   "outputs": [
    {
     "data": {
      "text/plain": [
       "3"
      ]
     },
     "execution_count": 11,
     "metadata": {},
     "output_type": "execute_result"
    }
   ],
   "source": [
    "# a.ndim - Dimension of the array (1d,2d or nth array)\n",
    "## Example - a.ndim - Array of dimension 1 (1d).\n",
    "c.ndim"
   ]
  },
  {
   "cell_type": "code",
   "execution_count": 12,
   "id": "7710ae8f",
   "metadata": {},
   "outputs": [
    {
     "data": {
      "text/plain": [
       "12"
      ]
     },
     "execution_count": 12,
     "metadata": {},
     "output_type": "execute_result"
    }
   ],
   "source": [
    "# a.size - Number of elements in the array.\n",
    "## Equal to np.prod(a.shape), i.e., the product of the array’s dimensions.\n",
    "## Example c.size - shape of c is (2,2,3) = 2*2*3 = 12 \n",
    "c.size"
   ]
  },
  {
   "cell_type": "code",
   "execution_count": 13,
   "id": "d155e934",
   "metadata": {},
   "outputs": [
    {
     "data": {
      "text/plain": [
       "dtype('float64')"
      ]
     },
     "execution_count": 13,
     "metadata": {},
     "output_type": "execute_result"
    }
   ],
   "source": [
    "# a.dtype - Data-type of the array’s elements.\n",
    "## Example a.dtype - dtype('int32') and b.dtype - dtype('float64')\n",
    "b.dtype"
   ]
  },
  {
   "cell_type": "code",
   "execution_count": 14,
   "id": "b7c9aa64",
   "metadata": {},
   "outputs": [
    {
     "name": "stdout",
     "output_type": "stream",
     "text": [
      "float64 void640\n"
     ]
    }
   ],
   "source": [
    "# a.dtype.name - A bit-width name for this data-type.\n",
    "## Un-sized flexible data-type objects do not have this attribute.\n",
    "## Example x = np.dtype(float) x.name is float64\n",
    "x = np.dtype(float)\n",
    "y = np.dtype([('a', np.int32, 8), ('b', np.float64, 6)])\n",
    "print(x.name,y.name)"
   ]
  },
  {
   "cell_type": "code",
   "execution_count": 15,
   "id": "a0f00493",
   "metadata": {},
   "outputs": [
    {
     "data": {
      "text/plain": [
       "array([[1, 2, 3],\n",
       "       [6, 7, 8]])"
      ]
     },
     "execution_count": 15,
     "metadata": {},
     "output_type": "execute_result"
    }
   ],
   "source": [
    "# a.astype(float)\n",
    "## Convert the array's datatype according to the parameter given\n",
    "## b.astype - When creating the array b, we used float, and then used astype to convert to integer.\n",
    "b.astype(int)"
   ]
  },
  {
   "cell_type": "markdown",
   "id": "79da12f5",
   "metadata": {},
   "source": [
    "# Different methods to Initialize the numpy array"
   ]
  },
  {
   "cell_type": "markdown",
   "id": "fe61606d",
   "metadata": {},
   "source": [
    "## numpy.arange"
   ]
  },
  {
   "cell_type": "code",
   "execution_count": 16,
   "id": "4d3e27f4",
   "metadata": {},
   "outputs": [
    {
     "name": "stdout",
     "output_type": "stream",
     "text": [
      "[0 2 4 6 8]\n",
      "[0.  0.5 1.  1.5 2.  2.5 3.  3.5 4.  4.5 5.  5.5 6.  6.5 7.  7.5 8.  8.5\n",
      " 9.  9.5]\n"
     ]
    }
   ],
   "source": [
    "# numpy.arange([start, ]stop, [step, ]dtype=None, *, like=None)\n",
    "## Return evenly spaced values within a given interval.\n",
    "## Values are generated within the half-open interval [start, stop) \n",
    "## (In other words, the interval including start but excluding stop). \n",
    "## For integer arguments the function is equivalent to the Python built-in range function, \n",
    "## but returns an ndarray rather than a list.\n",
    "print(np.arange(0,10,2,dtype = int))\n",
    "print(np.arange(0,10,0.5,dtype=float))"
   ]
  },
  {
   "cell_type": "markdown",
   "id": "88b9ba53",
   "metadata": {},
   "source": [
    "## numpy.linspace"
   ]
  },
  {
   "cell_type": "code",
   "execution_count": 17,
   "id": "9c9dd249",
   "metadata": {},
   "outputs": [
    {
     "name": "stdout",
     "output_type": "stream",
     "text": [
      "[2.   2.25 2.5  2.75 3.  ]\n",
      "[2.  2.2 2.4 2.6 2.8]\n",
      "(array([2.  , 2.25, 2.5 , 2.75, 3.  ]), 0.25)\n"
     ]
    }
   ],
   "source": [
    "# numpy.linspace(start, stop, num=50, endpoint=True, retstep=False, dtype=None, axis=0)[source]\n",
    "## Return evenly spaced numbers over a specified interval.\n",
    "## Returns num evenly spaced samples, calculated over the interval [start, stop].\n",
    "## The endpoint of the interval can optionally be excluded.\n",
    "print(np.linspace(2.0, 3.0, num=5))\n",
    "print(np.linspace(2.0, 3.0, num=5, endpoint=False))\n",
    "print(np.linspace(2.0, 3.0, num=5, retstep=True))"
   ]
  },
  {
   "cell_type": "markdown",
   "id": "94c0cd32",
   "metadata": {},
   "source": [
    "## Difference between the linspace and arange."
   ]
  },
  {
   "cell_type": "code",
   "execution_count": 18,
   "id": "92b96afd",
   "metadata": {},
   "outputs": [
    {
     "name": "stdout",
     "output_type": "stream",
     "text": [
      " Using arange  [0 0 0 0 0 0 0 0 0 0]\n",
      " Using arange  [-3 -2 -1  0  1  2  3  4  5  6  7  8]\n",
      " Using Linspace  [0.   1.25 2.5  3.75 5.  ]\n",
      " Using Linspace  [-3.  -1.5  0.   1.5  3. ]\n"
     ]
    }
   ],
   "source": [
    "# Difference between the linspace and arange.\n",
    "## arange allow you to define the size of the step. linspace allow you to define the number of steps.\n",
    "## Example where arange might fail are - \n",
    "print(\" Using arange \",np.arange(0, 5, 0.5, dtype=int))\n",
    "print(\" Using arange \",np.arange(-3, 3, 0.5, dtype=int))\n",
    "\n",
    "print(\" Using Linspace \", np.linspace(0, 5, num = 5))\n",
    "print(\" Using Linspace \",np.linspace(-3, 3,num = 5))"
   ]
  },
  {
   "cell_type": "markdown",
   "id": "e8b04ce9",
   "metadata": {},
   "source": [
    "## Difference between numpy Array and Lists"
   ]
  },
  {
   "cell_type": "markdown",
   "id": "91ae5a5b",
   "metadata": {},
   "source": [
    "|Numpy Array|List| \n",
    "|-----|-------|\n",
    "|Numpy data structures consume less memory|List take more memory than numpy array| \n",
    "|Numpy are faster |Lists are slower as compared to numpy array|\n",
    "|NumPy have optimized functions such as linear algebra operations built in||\n",
    "|Element wise operation is possible||\n",
    "|Array are by default Homogeneous, which means data inside an array must be of the same Datatype.|A list can store different data types|\n",
    "||A list can consist of different nested data size|\n",
    "|We can create a N-dimensional array in python using numpy.array().||\n",
    "||A list is easier to modify|\n",
    "|Array can handle mathematical operations|A list cannot directly handle a mathematical operations|"
   ]
  },
  {
   "cell_type": "markdown",
   "id": "c108952f",
   "metadata": {},
   "source": [
    "## numpy.zeros"
   ]
  },
  {
   "cell_type": "code",
   "execution_count": 25,
   "id": "0fb7166b",
   "metadata": {},
   "outputs": [],
   "source": [
    "# numpy.zeros(shape, dtype=float, order='C', *, like=None)\n",
    "## Return (ndarray) a new array of given shape and type, filled with zeros.\n",
    "arr_1d_zeros = np.zeros(5)\n",
    "arr_2d_zeros = np.zeros((2,5),dtype=\"int64\")\n",
    "arr_3d_zeros = np.zeros((2,3,4),dtype = int)"
   ]
  },
  {
   "cell_type": "code",
   "execution_count": 31,
   "id": "4be7e72d",
   "metadata": {},
   "outputs": [
    {
     "name": "stdout",
     "output_type": "stream",
     "text": [
      "\n",
      " 1D Array\n",
      " [0. 0. 0. 0. 0.]\n",
      "\n",
      " 2D Array\n",
      " [[0 0 0 0 0]\n",
      " [0 0 0 0 0]]\n",
      "\n",
      " 3D Array\n",
      " [[[0 0 0 0]\n",
      "  [0 0 0 0]\n",
      "  [0 0 0 0]]\n",
      "\n",
      " [[0 0 0 0]\n",
      "  [0 0 0 0]\n",
      "  [0 0 0 0]]]\n"
     ]
    }
   ],
   "source": [
    "print(\"\\n 1D Array\\n\",arr_1d_zeros)\n",
    "print(\"\\n 2D Array\\n\", arr_2d_zeros)\n",
    "print(\"\\n 3D Array\\n\",arr_3d_zeros)"
   ]
  },
  {
   "cell_type": "markdown",
   "id": "0806a249",
   "metadata": {},
   "source": [
    "## numpy.ones"
   ]
  },
  {
   "cell_type": "code",
   "execution_count": 32,
   "id": "047a444f",
   "metadata": {},
   "outputs": [],
   "source": [
    "# numpy.ones(shape, dtype=None, order='C', *, like=None)\n",
    "## Return a new array of given shape and type, filled with ones.\n",
    "arr_1d_ones = np.ones(5)\n",
    "arr_2d_ones = np.ones((2,5),dtype=\"int64\")\n",
    "arr_3d_ones = np.ones((2,3,4),dtype = int)"
   ]
  },
  {
   "cell_type": "code",
   "execution_count": 33,
   "id": "71029047",
   "metadata": {},
   "outputs": [
    {
     "name": "stdout",
     "output_type": "stream",
     "text": [
      "\n",
      " 1D Array\n",
      " [1. 1. 1. 1. 1.]\n",
      "\n",
      " 2D Array\n",
      " [[1 1 1 1 1]\n",
      " [1 1 1 1 1]]\n",
      "\n",
      " 3D Array\n",
      " [[[1 1 1 1]\n",
      "  [1 1 1 1]\n",
      "  [1 1 1 1]]\n",
      "\n",
      " [[1 1 1 1]\n",
      "  [1 1 1 1]\n",
      "  [1 1 1 1]]]\n"
     ]
    }
   ],
   "source": [
    "print(\"\\n 1D Array\\n\",arr_1d_ones)\n",
    "print(\"\\n 2D Array\\n\", arr_2d_ones)\n",
    "print(\"\\n 3D Array\\n\",arr_3d_ones)"
   ]
  },
  {
   "cell_type": "markdown",
   "id": "bb296c68",
   "metadata": {},
   "source": [
    "## numpy.full"
   ]
  },
  {
   "cell_type": "code",
   "execution_count": 35,
   "id": "713bcc56",
   "metadata": {},
   "outputs": [],
   "source": [
    "# numpy.full(shape, fill_value, dtype=None, order='C', *, like=None)\n",
    "## Return a new array of given shape and type, filled with fill_value.\n",
    "arr_1d_full = np.full(2, np.inf)\n",
    "arr_2d_full = np.full((2, 2), 5)\n",
    "arr_3d_full = np.full((2, 2,2), [1, 2])\n"
   ]
  },
  {
   "cell_type": "code",
   "execution_count": 36,
   "id": "7dab07ff",
   "metadata": {},
   "outputs": [
    {
     "name": "stdout",
     "output_type": "stream",
     "text": [
      "\n",
      " 1D Array\n",
      " [inf inf]\n",
      "\n",
      " 2D Array\n",
      " [[5 5]\n",
      " [5 5]]\n",
      "\n",
      " 3D Array\n",
      " [[[1 2]\n",
      "  [1 2]]\n",
      "\n",
      " [[1 2]\n",
      "  [1 2]]]\n"
     ]
    }
   ],
   "source": [
    "print(\"\\n 1D Array\\n\",arr_1d_full)\n",
    "print(\"\\n 2D Array\\n\", arr_2d_full)\n",
    "print(\"\\n 3D Array\\n\",arr_3d_full)"
   ]
  },
  {
   "cell_type": "markdown",
   "id": "79decf14",
   "metadata": {},
   "source": [
    "## numpy.eye"
   ]
  },
  {
   "cell_type": "code",
   "execution_count": 37,
   "id": "57b7096a",
   "metadata": {},
   "outputs": [],
   "source": [
    "# numpy.eye(N, M=None, k=0, dtype=<class 'float'>, order='C', *, like=None)\n",
    "## Return a 2-D array with ones on the diagonal and zeros elsewhere\n",
    "arr_2d_diag0 = np.eye(2, dtype=int)\n",
    "arr_2d_diag1 = np.eye(3, k=1)"
   ]
  },
  {
   "cell_type": "code",
   "execution_count": 39,
   "id": "57029dea",
   "metadata": {},
   "outputs": [
    {
     "name": "stdout",
     "output_type": "stream",
     "text": [
      "\n",
      " 2D Array\n",
      " [[1 0]\n",
      " [0 1]]\n",
      "\n",
      " 2D Array\n",
      " [[0. 1. 0.]\n",
      " [0. 0. 1.]\n",
      " [0. 0. 0.]]\n"
     ]
    }
   ],
   "source": [
    "print(\"\\n 2D Array\\n\", arr_2d_diag0)\n",
    "print(\"\\n 2D Array\\n\", arr_2d_diag1)"
   ]
  },
  {
   "cell_type": "markdown",
   "id": "78abc620",
   "metadata": {},
   "source": [
    "## random.random"
   ]
  },
  {
   "cell_type": "code",
   "execution_count": 40,
   "id": "5e147cca",
   "metadata": {},
   "outputs": [
    {
     "data": {
      "text/plain": [
       "0.9821787609221715"
      ]
     },
     "execution_count": 40,
     "metadata": {},
     "output_type": "execute_result"
    }
   ],
   "source": [
    "# random.random(size=None)\n",
    "## Return random floats in the half-open interval [0.0, 1.0). \n",
    "## Alias for random_sample to ease forward-porting to the new random API.\n",
    "np.random.random()"
   ]
  },
  {
   "cell_type": "markdown",
   "id": "e143ee29",
   "metadata": {},
   "source": [
    "# Array Manipulation\n"
   ]
  },
  {
   "cell_type": "markdown",
   "id": "d58e1fa3",
   "metadata": {},
   "source": [
    "## numpy.transpose"
   ]
  },
  {
   "cell_type": "code",
   "execution_count": 55,
   "id": "73ef483d",
   "metadata": {},
   "outputs": [
    {
     "name": "stdout",
     "output_type": "stream",
     "text": [
      "[[0 1]\n",
      " [2 3]]\n"
     ]
    },
    {
     "data": {
      "text/plain": [
       "array([[0, 2],\n",
       "       [1, 3]])"
      ]
     },
     "execution_count": 55,
     "metadata": {},
     "output_type": "execute_result"
    }
   ],
   "source": [
    "# numpy.transpose(a, axes=None)\n",
    "# Reverse or permute the axes of an array; returns the modified array.\n",
    "# Parameters | aarray_like | Input array.\n",
    "\n",
    "# axes | tuple or list of ints, optional\n",
    "# If specified, it must be a tuple or list which contains a permutation of [0,1,..,N-1] where N is the \n",
    "# number of axes of a. The i’th axis of the returned array will correspond to the axis numbered \n",
    "# axes[i] of the input. If not specified, defaults to range(a.ndim)[::-1], which reverses the order \n",
    "# of the axes.\n",
    "x = np.arange(4).reshape((2,2))\n",
    "print(x)\n",
    "np.transpose(x)"
   ]
  },
  {
   "cell_type": "code",
   "execution_count": 59,
   "id": "a29ecd9c",
   "metadata": {},
   "outputs": [
    {
     "name": "stdout",
     "output_type": "stream",
     "text": [
      "Original Array\n",
      " [[[1. 1. 1.]\n",
      "  [1. 1. 1.]]]\n",
      "\n",
      " After Transpose \n",
      " [[[1. 1. 1.]]\n",
      "\n",
      " [[1. 1. 1.]]]\n"
     ]
    }
   ],
   "source": [
    "x = np.ones((1, 2, 3))\n",
    "print(\"Original Array\\n\",x)\n",
    "print(\"\\n After Transpose \\n\",np.transpose(x, (1, 0, 2)))"
   ]
  },
  {
   "cell_type": "markdown",
   "id": "4fed23d9",
   "metadata": {},
   "source": [
    "## numpy.vstack"
   ]
  },
  {
   "cell_type": "code",
   "execution_count": 44,
   "id": "2a22fff3",
   "metadata": {},
   "outputs": [],
   "source": [
    "# numpy.vstack(tup)\n",
    "# Stack arrays in sequence vertically (row wise).\n",
    "# Parameters | tup | sequence of ndarrays\n",
    "# The arrays must have the same shape along all but the first axis. \n",
    "# 1-D arrays must have the same length.\n",
    "\n",
    "# Returns | stacked | ndarray\n",
    "# The array formed by stacking the given arrays, will be at least 2-D.\n",
    "\n",
    "top_stack = np.linspace(0, 3, 4).reshape(2,2)\n",
    "bottom_stack = np.linspace(5, 8, 4).reshape(2,2)\n",
    "vstack = np.vstack((top_stack,bottom_right))"
   ]
  },
  {
   "cell_type": "code",
   "execution_count": 47,
   "id": "6ea9a34c",
   "metadata": {},
   "outputs": [
    {
     "name": "stdout",
     "output_type": "stream",
     "text": [
      "Array \n",
      " [[0. 1.]\n",
      " [2. 3.]]\n",
      "\n",
      "Array \n",
      " [[5. 6.]\n",
      " [7. 8.]]\n",
      "\n",
      "Merged Array \n",
      " [[0. 1.]\n",
      " [2. 3.]\n",
      " [5. 6.]\n",
      " [7. 8.]]\n"
     ]
    }
   ],
   "source": [
    "print(\"Array \\n\",top_stack)\n",
    "print(\"\\nArray \\n\",bottom_right)\n",
    "print(\"\\nMerged Array \\n\",vstack)"
   ]
  },
  {
   "cell_type": "markdown",
   "id": "9417a32b",
   "metadata": {},
   "source": [
    "## numpy.hstack"
   ]
  },
  {
   "cell_type": "code",
   "execution_count": 48,
   "id": "7dd4018d",
   "metadata": {},
   "outputs": [],
   "source": [
    "# numpy.hstack(tup)\n",
    "# Stack arrays in sequence horizontally (column wise).\n",
    "# Parameters | tup | sequence of ndarrays\n",
    "# The arrays must have the same shape along all but the second axis, \n",
    "#except 1-D arrays which can be any length.\n",
    "\n",
    "# Returns | stacked | ndarray\n",
    "# The array formed by stacking the given arrays.\n",
    "left_stack = np.linspace(0, 3, 4).reshape(2,2)\n",
    "right_stack = np.linspace(5, 8, 4).reshape(2,2)\n",
    "hstack = np.hstack((left_stack,right_stack))"
   ]
  },
  {
   "cell_type": "code",
   "execution_count": 49,
   "id": "8473e1dc",
   "metadata": {},
   "outputs": [
    {
     "name": "stdout",
     "output_type": "stream",
     "text": [
      "Array \n",
      " [[0. 1.]\n",
      " [2. 3.]]\n",
      "\n",
      "Array \n",
      " [[5. 6.]\n",
      " [7. 8.]]\n",
      "\n",
      "Merged Array \n",
      " [[0. 1. 5. 6.]\n",
      " [2. 3. 7. 8.]]\n"
     ]
    }
   ],
   "source": [
    "print(\"Array \\n\",left_stack)\n",
    "print(\"\\nArray \\n\",right_stack)\n",
    "print(\"\\nMerged Array \\n\",hstack)"
   ]
  },
  {
   "cell_type": "markdown",
   "id": "f9f14fd3",
   "metadata": {},
   "source": [
    "## numpy.concatenate"
   ]
  },
  {
   "cell_type": "code",
   "execution_count": 51,
   "id": "e93be6f7",
   "metadata": {},
   "outputs": [
    {
     "data": {
      "text/plain": [
       "array([[1, 2],\n",
       "       [3, 4],\n",
       "       [5, 6]])"
      ]
     },
     "execution_count": 51,
     "metadata": {},
     "output_type": "execute_result"
    }
   ],
   "source": [
    "# numpy.concatenate((a1, a2, ...), axis=0, out=None, dtype=None, casting=\"same_kind\")\n",
    "# Join a sequence of arrays along an existing axis\n",
    "\n",
    "# Parameters | a1, a2, …sequence of array_like\n",
    "# The arrays must have the same shape, except in the dimension corresponding to axis \n",
    "# (the first, by default).\n",
    "\n",
    "# axis | int, optional\n",
    "# The axis along which the arrays will be joined. If axis is None, arrays are flattened before use. \n",
    "# Default is 0.\n",
    "\n",
    "# Returns | res | ndarray | he concatenated array.\n",
    "\n",
    "a = np.array([[1, 2], [3, 4]])\n",
    "b = np.array([[5, 6]])\n",
    "np.concatenate((a, b), axis=0)"
   ]
  },
  {
   "cell_type": "code",
   "execution_count": 52,
   "id": "e5778666",
   "metadata": {},
   "outputs": [
    {
     "data": {
      "text/plain": [
       "array([[1, 2, 5],\n",
       "       [3, 4, 6]])"
      ]
     },
     "execution_count": 52,
     "metadata": {},
     "output_type": "execute_result"
    }
   ],
   "source": [
    "np.concatenate((a, b.T), axis=1)"
   ]
  },
  {
   "cell_type": "code",
   "execution_count": 53,
   "id": "1e34717b",
   "metadata": {},
   "outputs": [
    {
     "data": {
      "text/plain": [
       "array([1, 2, 3, 4, 5, 6])"
      ]
     },
     "execution_count": 53,
     "metadata": {},
     "output_type": "execute_result"
    }
   ],
   "source": [
    "np.concatenate((a, b), axis=None)"
   ]
  },
  {
   "cell_type": "code",
   "execution_count": null,
   "id": "b71961e4",
   "metadata": {},
   "outputs": [],
   "source": []
  }
 ],
 "metadata": {
  "kernelspec": {
   "display_name": "Python 3 (ipykernel)",
   "language": "python",
   "name": "python3"
  },
  "language_info": {
   "codemirror_mode": {
    "name": "ipython",
    "version": 3
   },
   "file_extension": ".py",
   "mimetype": "text/x-python",
   "name": "python",
   "nbconvert_exporter": "python",
   "pygments_lexer": "ipython3",
   "version": "3.7.3"
  }
 },
 "nbformat": 4,
 "nbformat_minor": 5
}
