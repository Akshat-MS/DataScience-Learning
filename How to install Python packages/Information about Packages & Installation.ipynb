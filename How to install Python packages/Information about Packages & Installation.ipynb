{
 "cells": [
  {
   "cell_type": "markdown",
   "id": "251412ac",
   "metadata": {},
   "source": [
    "# Python Package Installation from Jupyter Notebooks\n",
    "\n",
    "- This guide shows you how to install a Python package so that it will work with Jupyter notebook, using pip and/or conda.\n",
    "\n",
    "- It will also provide some background as to what exactly the Jupyter notebook abstraction does, how it interacts with the complexities of the operating system, and how you can think about where the \"leaks\" are, so that you know why things stop working."
   ]
  },
  {
   "cell_type": "markdown",
   "id": "7ffbdadd",
   "metadata": {},
   "source": [
    "### pip vs conda\n",
    "\n",
    "- pip installs python packages in any environment.\n",
    "- conda installs any package in conda environments."
   ]
  },
  {
   "cell_type": "code",
   "execution_count": null,
   "id": "2a3a2957",
   "metadata": {},
   "outputs": [],
   "source": []
  },
  {
   "cell_type": "code",
   "execution_count": null,
   "id": "c355c1a1",
   "metadata": {},
   "outputs": [],
   "source": []
  },
  {
   "cell_type": "code",
   "execution_count": null,
   "id": "d5513966",
   "metadata": {},
   "outputs": [],
   "source": []
  },
  {
   "cell_type": "markdown",
   "id": "4cd977dd",
   "metadata": {},
   "source": [
    "### Check the Anaconda version"
   ]
  },
  {
   "cell_type": "code",
   "execution_count": 1,
   "id": "4d46ab63",
   "metadata": {},
   "outputs": [
    {
     "name": "stdout",
     "output_type": "stream",
     "text": [
      "conda 4.11.0\n",
      "\n",
      "Note: you may need to restart the kernel to use updated packages.\n"
     ]
    }
   ],
   "source": [
    "conda --version"
   ]
  },
  {
   "cell_type": "markdown",
   "id": "4270d4e6",
   "metadata": {},
   "source": [
    "### Pandas package installation"
   ]
  },
  {
   "cell_type": "markdown",
   "id": "8df4c03b",
   "metadata": {},
   "source": [
    "##### Installation using pip command"
   ]
  },
  {
   "cell_type": "code",
   "execution_count": null,
   "id": "e3ded52c",
   "metadata": {},
   "outputs": [],
   "source": [
    "!pip install pandas"
   ]
  },
  {
   "cell_type": "markdown",
   "id": "4fcb6849",
   "metadata": {},
   "source": [
    "##### Upgrade Pandas libraries using PIP command"
   ]
  },
  {
   "cell_type": "code",
   "execution_count": null,
   "id": "40486896",
   "metadata": {},
   "outputs": [],
   "source": [
    "pip install ipython --upgrade"
   ]
  },
  {
   "cell_type": "code",
   "execution_count": null,
   "id": "acc519d9",
   "metadata": {},
   "outputs": [],
   "source": []
  },
  {
   "cell_type": "code",
   "execution_count": null,
   "id": "90b293ce",
   "metadata": {},
   "outputs": [],
   "source": []
  },
  {
   "cell_type": "code",
   "execution_count": null,
   "id": "8e9a4235",
   "metadata": {},
   "outputs": [],
   "source": []
  },
  {
   "cell_type": "code",
   "execution_count": null,
   "id": "1ec0eaa8",
   "metadata": {},
   "outputs": [],
   "source": []
  },
  {
   "cell_type": "markdown",
   "id": "14e119cc",
   "metadata": {},
   "source": [
    "### Pandas Profiling Report"
   ]
  },
  {
   "cell_type": "markdown",
   "id": "92c03d4b",
   "metadata": {},
   "source": [
    "##### You can install using the pip package manager by running"
   ]
  },
  {
   "cell_type": "code",
   "execution_count": null,
   "id": "f2e1b15d",
   "metadata": {},
   "outputs": [],
   "source": [
    "!pip install -U pandas-profiling\n",
    "jupyter nbextension enable --py widgetsnbextension"
   ]
  },
  {
   "cell_type": "markdown",
   "id": "3c04ce74",
   "metadata": {},
   "source": [
    "##### If you are in a notebook (locally, at LambdaLabs, on Google Colab or Kaggle), you can run:"
   ]
  },
  {
   "cell_type": "code",
   "execution_count": null,
   "id": "c932844c",
   "metadata": {},
   "outputs": [],
   "source": [
    "import sys\n",
    "!{sys.executable} -m pip install -U pandas-profiling[notebook]\n",
    "!jupyter nbextension enable --py widgetsnbextension"
   ]
  },
  {
   "cell_type": "markdown",
   "id": "52687870",
   "metadata": {},
   "source": [
    "### How to install Pandas Profiling package <a href=\"https://pandas-profiling.github.io/pandas-profiling/docs/master/rtd/pages/installation.html\" >Installation steps</a> "
   ]
  },
  {
   "cell_type": "markdown",
   "id": "1648e812",
   "metadata": {},
   "source": [
    "## Conda\n",
    "\n",
    "### Myth 1:\n",
    "**Conda is a distribution, not a package manager**\n",
    "\n",
    "**Reality:** Conda is a package manager; Anaconda is a distribution. Although Conda is packaged with Anaconda, the two are distinct entities with distinct goals.\n",
    "\n",
    "A software distribution is a pre-built and pre-configured collection of packages that can be installed and used on a system. A package manager is a tool that automates the process of installing, updating, and removing packages. Conda, with its \"conda install\", \"conda update\", and \"conda remove\" sub-commands, falls squarely under the second definition: it is a package manager\n",
    "\n",
    "\n",
    "### Myth 2:\n",
    "**Conda is a Python package manager**\n",
    "\n",
    "**Reality:** Conda is a general-purpose package management system, designed to build and manage software of any type from any language. As such, it also works well with Python packages.\n",
    "\n",
    "Because conda arose from within the Python (more specifically PyData) community, many mistakenly assume that it is fundamentally a Python package manager. This is not the case: conda is designed to manage packages and dependencies within any software stack. In this sense, it's less like pip, and more like a cross-platform version of apt or yum.\n",
    "\n",
    "### Myth 3: \n",
    "**Conda and pip are direct competitors**\n",
    "\n",
    "**Reality:** Conda and pip serve different purposes, and only directly compete in a small subset of tasks: namely installing Python packages in isolated environments.\n",
    "\n",
    "Pip, which stands for Pip Installs Packages, is Python's officially-sanctioned package manager, and is most commonly used to install packages published on the Python Package Index (PyPI). Both pip and PyPI are governed and supported by the Python Packaging Authority (PyPA).\n",
    "\n",
    "Even setting aside Myth 2, if we focus on just installation of Python packages, conda and pip serve different audiences and different purposes. **If you want to, say, manage Python packages within an existing system Python installation, conda can't help you:** by design, it can only install packages within conda environments. If you want to, say, **work with the many Python packages which rely on external dependencies (NumPy, SciPy, and Matplotlib are common examples), while tracking those dependencies in a meaningful way, pip can't help you:** by design, it manages Python packages and only Python packages.\n",
    "\n",
    "### Myth 4: \n",
    "**Creating conda in the first place was irresponsible & divisive**\n",
    "\n",
    "**Reality:** Conda's creators pushed Python's standard packaging to its limits for over a decade, and only created a second tool when it was clear it was the only reasonable way forward\n",
    "\n",
    "### Myth 5: \n",
    "**conda doesn't work with virtualenv, so it's useless for my workflow**\n",
    "\n",
    "**Reality:** You actually can install (some) conda packages within a virtualenv, but better is to use Conda's own environment manager: it is fully-compatible with pip and has several advantages over virtualenv\n",
    "\n",
    "virtualenv/venv are utilites that allow users to create isolated Python environments that work with pip. Conda has its own <a href=\"https://conda.io/projects/conda/en/latest/user-guide/concepts/environments.html\">built-in environment manager</a> that works seamlessly with both conda and pip, and in fact has several advantages over virtualenv/venv:\n",
    "\n",
    "  - conda environments integrate management of different Python versions, including installation and updating of Python itself. Virtualenvs must be created upon an existing, externally managed Python executable.\n",
    "  - conda environments can track non-python dependencies; for example seamlessly managing dependencies and parallel versions of essential tools like LAPACK or OpenSSL\n",
    "  - Rather than environments built on symlinks – which break the isolation of the virtualenv and can be flimsy at times for non-Python dependencies – conda-envs are true isolated environments within a single executable path.\n",
    "  - While virtualenvs are not compatible with conda packages, conda environments are entirely compatible with pip packages. First conda install pip, and then you can pip install any available package within that environment. You can even explicitly list pip packages in conda environment files, meaning the full software stack is entirely reproducible from a single environment metadata file.\n",
    "  \n",
    "### Myth 6: \n",
    "**Now that pip uses wheels, conda is no longer necessary**\n",
    "\n",
    "**Reality:** wheels address just one of the many challenges that prompted the development of conda, and wheels have weaknesses that Conda's binaries address."
   ]
  },
  {
   "cell_type": "code",
   "execution_count": null,
   "id": "45d64ee0",
   "metadata": {},
   "outputs": [],
   "source": []
  },
  {
   "cell_type": "code",
   "execution_count": null,
   "id": "4c674745",
   "metadata": {},
   "outputs": [],
   "source": []
  },
  {
   "cell_type": "code",
   "execution_count": null,
   "id": "ea4365ea",
   "metadata": {},
   "outputs": [],
   "source": []
  },
  {
   "cell_type": "markdown",
   "id": "ef151441",
   "metadata": {},
   "source": [
    "### Sources used are - \n",
    "\n",
    "- <a href=\"https://jakevdp.github.io/blog/2016/08/25/conda-myths-and-misconceptions/\">Conda: Myths and Misconceptions</a>\n",
    "- <a href=\"https://jakevdp.github.io/blog/2017/12/05/installing-python-packages-from-jupyter/\">Installing Python Packages from a Jupyter Notebook</a>"
   ]
  },
  {
   "cell_type": "code",
   "execution_count": null,
   "id": "026536b7",
   "metadata": {},
   "outputs": [],
   "source": []
  }
 ],
 "metadata": {
  "kernelspec": {
   "display_name": "Python 3 (ipykernel)",
   "language": "python",
   "name": "python3"
  },
  "language_info": {
   "codemirror_mode": {
    "name": "ipython",
    "version": 3
   },
   "file_extension": ".py",
   "mimetype": "text/x-python",
   "name": "python",
   "nbconvert_exporter": "python",
   "pygments_lexer": "ipython3",
   "version": "3.7.3"
  }
 },
 "nbformat": 4,
 "nbformat_minor": 5
}
